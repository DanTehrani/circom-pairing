{
 "cells": [
  {
   "cell_type": "code",
   "execution_count": 1,
   "id": "da444aaf",
   "metadata": {},
   "outputs": [
    {
     "name": "stdout",
     "output_type": "stream",
     "text": [
      "TRUE\n",
      "[4, 0, 0, 0, 0, 0, 0, 0, 0, 0, 0, 0]\n",
      "4002409555221667393417789825735904156556882819939007885332058136124031650490837864442687629129015664037894272559787\n"
     ]
    }
   ],
   "source": [
    "import curve"
   ]
  },
  {
   "cell_type": "code",
   "execution_count": 2,
   "id": "968dc802",
   "metadata": {},
   "outputs": [],
   "source": [
    "from curve_field_elements import field_modulus, FQ, FQ2, FQ12, inv\n",
    "from field_helper import numberToBase, numberToArray, printEllipticPoint, Fp12convert, convert_out_to_Fp12, printFQ2, printFQ12, print_fq12_frobenius_coeff"
   ]
  },
  {
   "cell_type": "code",
   "execution_count": null,
   "id": "a6fe5a56",
   "metadata": {},
   "outputs": [],
   "source": []
  },
  {
   "cell_type": "code",
   "execution_count": 3,
   "id": "c63f3028",
   "metadata": {},
   "outputs": [
    {
     "name": "stdout",
     "output_type": "stream",
     "text": [
      "52435875175126190479447740508185965837690552500527637822603658699938581184513\n"
     ]
    }
   ],
   "source": [
    "q = curve.field_modulus\n",
    "q == 0x1a0111ea397fe69a4b1ba7b6434bacd764774b84f38512bf6730d2a0f6b0f6241eabfffeb153ffffb9feffffffffaaab\n",
    "r = curve.curve_order\n",
    "x = -2**63 - 2**62 - 2**60 - 2**57 - 2**48 - 2**16\n",
    "print(r)"
   ]
  },
  {
   "cell_type": "code",
   "execution_count": 4,
   "id": "e92387f7",
   "metadata": {},
   "outputs": [
    {
     "name": "stdout",
     "output_type": "stream",
     "text": [
      "[35747322042231467, 36025922209447795, 1084959616957103, 7925923977987733, 16551456537884751, 23443114579904617, 1829881462546425]\n"
     ]
    }
   ],
   "source": [
    "print(numberToArray(q, 55,7))"
   ]
  },
  {
   "cell_type": "code",
   "execution_count": 5,
   "id": "b4972bf2",
   "metadata": {},
   "outputs": [
    {
     "name": "stdout",
     "output_type": "stream",
     "text": [
      "[\n",
      "[\"5440959206139905\",\n",
      "\"5515662923731907\",\n",
      "\"10491004233861355\",\n",
      "\"28691331721860307\",\n",
      "\"27955817036233384\",\n",
      "\"18631882631076677\",\n",
      "\"907600843284315\"],\n",
      "[\"11548582681213374\",\n",
      "\"7404909498155861\",\n",
      "\"12768329608264924\",\n",
      "\"12731371725497493\",\n",
      "\"11463081752430568\",\n",
      "\"7184576637437304\",\n",
      "\"424072857758157\"]]\n"
     ]
    }
   ],
   "source": [
    "printFQ2(curve.G2[1], 55, 7)"
   ]
  },
  {
   "cell_type": "code",
   "execution_count": 13,
   "id": "eb7bd772",
   "metadata": {},
   "outputs": [
    {
     "name": "stdout",
     "output_type": "stream",
     "text": [
      "[16589478066046651, 22658679592837110, 35004527604248919, 16789302793630161, 7530538873701625, 32234187716135413, 1684953952445941] [11860609209853921, 4091579406338073, 12578493816062195, 13088963032438982, 24961455755233629, 8501508834176643, 612415636564648]\n"
     ]
    }
   ],
   "source": [
    "printEllipticPoint(P=curve.G1, n=55, k=7)"
   ]
  },
  {
   "cell_type": "code",
   "execution_count": 9,
   "id": "26a7c330",
   "metadata": {},
   "outputs": [],
   "source": [
    "#Fp12convert(curve.G12[1], n=55, k=7)"
   ]
  },
  {
   "cell_type": "code",
   "execution_count": 11,
   "id": "65bcaed3",
   "metadata": {},
   "outputs": [],
   "source": [
    "import miller_pseudocode as miller"
   ]
  },
  {
   "cell_type": "code",
   "execution_count": 9,
   "id": "2f3e81db",
   "metadata": {},
   "outputs": [
    {
     "data": {
      "text/plain": [
       "[4002409555221667392624310435006688643935503118305586438271171395842971157480381377015405980053539358417135540939436, 0]"
      ]
     },
     "execution_count": 9,
     "metadata": {},
     "output_type": "execute_result"
    }
   ],
   "source": [
    "FQ2([-4,-4]) ** ((q**2 -1)//3)"
   ]
  },
  {
   "cell_type": "code",
   "execution_count": 8,
   "id": "8369e0ab",
   "metadata": {},
   "outputs": [
    {
     "data": {
      "text/plain": [
       "233"
      ]
     },
     "execution_count": 8,
     "metadata": {},
     "output_type": "execute_result"
    }
   ],
   "source": [
    "import math\n",
    "4*55+3*3+4"
   ]
  },
  {
   "cell_type": "code",
   "execution_count": 12,
   "id": "d34e6dfb",
   "metadata": {},
   "outputs": [],
   "source": [
    "from curve import double, add, neg, multiply, is_on_curve, twist, b, b2, curve_order, G1\n",
    "from pairing import linefunc, cast_point_to_fq12\n",
    "def miller_loop(Q, P, loop_len, f0 = FQ12.one()):\n",
    "    if Q is None or P is None:\n",
    "        return FQ12.one()\n",
    "    R = neg(Q)\n",
    "    f = f0\n",
    "    loop_bits = loop_len.bit_length()\n",
    "    #print(loop_bits)\n",
    "    for i in range(loop_bits - 2, -1, -1):\n",
    "        f = f * f * linefunc(R, R, P)\n",
    "        R = double(R)\n",
    "        if loop_len & (2**i):\n",
    "            f = f * f0 * linefunc(R, neg(Q), P)\n",
    "            R = add(R, neg(Q))\n",
    "    return f\n",
    "def final_exp(f):\n",
    "    return miller.exp(f, (q**12 - 1)//r)"
   ]
  },
  {
   "cell_type": "code",
   "execution_count": 25,
   "id": "5424aba9",
   "metadata": {
    "scrolled": true
   },
   "outputs": [],
   "source": [
    "test = final_exp(miller_loop(Q = curve.G12, P=cast_point_to_fq12(curve.G1), loop_len=3))"
   ]
  },
  {
   "cell_type": "code",
   "execution_count": 26,
   "id": "7c0de096",
   "metadata": {
    "scrolled": true
   },
   "outputs": [
    {
     "data": {
      "text/plain": [
       "True"
      ]
     },
     "execution_count": 26,
     "metadata": {},
     "output_type": "execute_result"
    }
   ],
   "source": [
    "out = [ \"20296895012515174\",\n",
    " \"23546226836683954\",\n",
    " \"14729190609348666\",\n",
    " \"1997079746728572\",\n",
    " \"31145903534746722\",\n",
    " \"3444863753132766\",\n",
    " \"1144696960366304\",\n",
    " \"23280721459879903\",\n",
    " \"25068029874997798\",\n",
    " \"4009425445466942\",\n",
    " \"15992847309752038\",\n",
    " \"11925604147440377\",\n",
    " \"13801202330982321\",\n",
    " \"1143298458490907\",\n",
    " \"25889646496392134\",\n",
    " \"26820602717813773\",\n",
    " \"2486391491001607\",\n",
    " \"479070638562037\",\n",
    " \"5936592817514061\",\n",
    " \"18828838198039352\",\n",
    " \"436260499539176\",\n",
    " \"30800074710723814\",\n",
    " \"3991097889502701\",\n",
    " \"19593796343069741\",\n",
    " \"7817752579809705\",\n",
    " \"14136015108922624\",\n",
    " \"30595579541203051\",\n",
    " \"717601991514563\",\n",
    " \"0\",\n",
    " \"0\",\n",
    " \"0\",\n",
    " \"0\",\n",
    " \"0\",\n",
    " \"0\",\n",
    " \"0\",\n",
    " \"0\",\n",
    " \"0\",\n",
    " \"0\",\n",
    " \"0\",\n",
    " \"0\",\n",
    " \"0\",\n",
    " \"0\",\n",
    " \"27959355642514409\",\n",
    " \"4543106473668482\",\n",
    " \"27971001859632330\",\n",
    " \"31316891465420460\",\n",
    " \"35984043393846665\",\n",
    " \"23573474832333018\",\n",
    " \"623326235904489\",\n",
    " \"13173818803768584\",\n",
    " \"2812606053252214\",\n",
    " \"30510848212744458\",\n",
    " \"30142184608860400\",\n",
    " \"25497020893382922\",\n",
    " \"12625845769824857\",\n",
    " \"1109017810384094\",\n",
    " \"28353711788759275\",\n",
    " \"22632644433651175\",\n",
    " \"16290669487787707\",\n",
    " \"33587991272658413\",\n",
    " \"20152224095185647\",\n",
    " \"29886525828622750\",\n",
    " \"1744739176433853\",\n",
    " \"18286160749721498\",\n",
    " \"6128676112081962\",\n",
    " \"5605009420115448\",\n",
    " \"15737174415932047\",\n",
    " \"4025727313722815\",\n",
    " \"23347934818869980\",\n",
    " \"287265105263198\",\n",
    " \"27140444202051505\",\n",
    " \"14425261592453634\",\n",
    " \"26175785046201889\",\n",
    " \"820063195616513\",\n",
    " \"3486376846476342\",\n",
    " \"3322769625064916\",\n",
    " \"1476261504901260\",\n",
    " \"32607496472713628\",\n",
    " \"9887023644225237\",\n",
    " \"20676221523421598\",\n",
    " \"8587781805453759\",\n",
    " \"20092286402174874\",\n",
    " \"10686344353942076\",\n",
    " \"638512087727326\"]\n",
    "final_exp(convert_out_to_Fp12(out, 55, 7)) == test"
   ]
  },
  {
   "cell_type": "code",
   "execution_count": 24,
   "id": "ca1d76d0",
   "metadata": {},
   "outputs": [
    {
     "data": {
      "text/plain": [
       "[632342416002431805391463788411840636040788514908297054549658651796933387022424814160834378664245301820520554890842, 3935536401315577660575462487300648070886243873700339347069435689823604531437565262912342411719040997748326988661920, 3823611307712240794074990473960801853866956487578807530056780914537006489497107965000011257275471000944709048355997, 1907227174047590751420328729228665529193718531422865051516976848171205985062456733250316147934723621184069197119361, 3182177195745322637987062163827554120893011032822024250928198974254821065428417577112971628614017287119112020662373, 846357795499995151819718235391856161995814830398602448063502153842531124655423362844712435095215660601002068022810, 1854431789242408060202456248692211875351734496494779796820631990684680212437543935071023390290744911282636609054544, 2927002941240098218602126429734360262530667207148694706429182147969785798069429303406038199549962074314704658256675, 911604003369328295836736086339242380718693442121182532421726430602097331119095374679966660279658875401140523214399, 884570697631481450444953684890774007830018331424256703807701471741309981837362723409574410138745483855766001603203, 2730385884481288078280182998946429269949873766196390851778430158106190273703369250949454607296627243451370515337748, 502554556450840376213371478665873884449562030243854151172912575069905196443779488497822182448240767794341113551507]"
      ]
     },
     "execution_count": 24,
     "metadata": {},
     "output_type": "execute_result"
    }
   ],
   "source": [
    "test"
   ]
  },
  {
   "cell_type": "code",
   "execution_count": 83,
   "id": "e0b54ea8",
   "metadata": {},
   "outputs": [
    {
     "name": "stdout",
     "output_type": "stream",
     "text": [
      "134\n"
     ]
    }
   ],
   "source": [
    "num = r\n",
    "ones = 0;\n",
    "while num:\n",
    "    if num & 1:\n",
    "        ones = ones + 1\n",
    "    num //= 2\n",
    "print(ones)"
   ]
  },
  {
   "cell_type": "code",
   "execution_count": null,
   "id": "bc085623",
   "metadata": {},
   "outputs": [],
   "source": [
    "# Phi(12,-) cyclotomic polynomial\n",
    "def Phi12(x):\n",
    "    return x**4 - x**2 + 1\n",
    "def Psi12(x, p):\n",
    "    return x**4 - x**2 * p**2 + p**4\n",
    "def Psi4(x, p):\n",
    "    return x**2 + p**2\n",
    "def Psi2(x, p):\n",
    "    return x+p"
   ]
  },
  {
   "cell_type": "code",
   "execution_count": null,
   "id": "2e8ad708",
   "metadata": {
    "scrolled": true
   },
   "outputs": [],
   "source": [
    "print_fq12_frobenius_coeff(55,7)"
   ]
  },
  {
   "cell_type": "code",
   "execution_count": null,
   "id": "65e03cd8",
   "metadata": {},
   "outputs": [],
   "source": [
    "r == Phi12(x)"
   ]
  },
  {
   "cell_type": "code",
   "execution_count": null,
   "id": "b8f3aa3a",
   "metadata": {},
   "outputs": [],
   "source": [
    "l3 = x**2 - 2*x + 1\n",
    "l2 = l3*x\n",
    "l1 = l2*x - l3\n",
    "l0 = l1*x+3\n",
    "print(l3,l2,l1,l0)\n",
    "print(l0 + l1*q + l2*(q**2) + l3*(q**3) == (Phi12(q)//r))\n",
    "(x-1)**2 //3 * (x+q) * (x**2 + q**2 - 1) + 1 == (Phi12(q)//r)"
   ]
  },
  {
   "cell_type": "code",
   "execution_count": null,
   "id": "d201b8b8",
   "metadata": {},
   "outputs": [],
   "source": [
    "def findP(p, n, k):\n",
    "    thres = sum([2**(i*(n+1)) for i in range(k)])\n",
    "    P = ((thres + p-1)//p)*p\n",
    "    while True:\n",
    "        temp = P\n",
    "        print(P.bit_length())\n",
    "\n",
    "        #rep = []\n",
    "        for i in range(k-1):\n",
    "            temp -= 2**(n+1)\n",
    "            #rep.append( 2**(n+1) + (temp% (2**n)) )\n",
    "            temp //= 2**n\n",
    "        if temp >= 2**(n+1):\n",
    "            #rep.append(temp)\n",
    "            print(temp.bit_length())\n",
    "            #assert(sum([rep[i] * 2**(n*i) for i in range(k)]) == P)\n",
    "            return P//p, P#, rep\n",
    "        P+=p"
   ]
  },
  {
   "cell_type": "code",
   "execution_count": 86,
   "id": "99ef9ea8",
   "metadata": {},
   "outputs": [],
   "source": [
    "import math"
   ]
  },
  {
   "cell_type": "code",
   "execution_count": 98,
   "id": "2040471f",
   "metadata": {},
   "outputs": [
    {
     "name": "stdout",
     "output_type": "stream",
     "text": [
      "48\n",
      "257.5304787228406\n"
     ]
    }
   ],
   "source": [
    "k=8\n",
    "n=(381+k-1)//k\n",
    "print(n)\n",
    "print((5 * n + math.log(6*k*3) + math.log(36*3*k*(2*k-1)*(3*k-2)) ))"
   ]
  },
  {
   "cell_type": "code",
   "execution_count": 99,
   "id": "4adc7b0a",
   "metadata": {},
   "outputs": [
    {
     "data": {
      "text/plain": [
       "[281474976688811,\n",
       " 194974335351294,\n",
       " 270634993844222,\n",
       " 113459389855408,\n",
       " 83034393350847,\n",
       " 73992301405303,\n",
       " 253550359455670,\n",
       " 28591897852287]"
      ]
     },
     "execution_count": 99,
     "metadata": {},
     "output_type": "execute_result"
    }
   ],
   "source": [
    "numberToArray(q, n, k)"
   ]
  },
  {
   "cell_type": "code",
   "execution_count": 88,
   "id": "27bac6cd",
   "metadata": {
    "scrolled": true
   },
   "outputs": [
    {
     "name": "stdout",
     "output_type": "stream",
     "text": [
      "[\n",
      "[[\"23210909152513887\",\n",
      "\"10477115764436050\",\n",
      "\"12139772280517621\",\n",
      "\"25564397821825646\",\n",
      "\"11565342451730623\",\n",
      "\"34691348530876326\",\n",
      "\"418067868092012\"],\n",
      "[\"3676768734242236\",\n",
      "\"29163783762726656\",\n",
      "\"5488615434494738\",\n",
      "\"8022342014061381\",\n",
      "\"23336398176897438\",\n",
      "\"25527377984370760\",\n",
      "\"498096074163426\"]],\n",
      "[[\"30969894704571518\",\n",
      "\"11029493982986967\",\n",
      "\"3454733585737701\",\n",
      "\"8522352819876389\",\n",
      "\"33395828621399787\",\n",
      "\"28060358699558090\",\n",
      "\"1287926278213590\"],\n",
      "[\"14161721510277829\",\n",
      "\"438666917015092\",\n",
      "\"4649719907147057\",\n",
      "\"30484148486788742\",\n",
      "\"19722436331117415\",\n",
      "\"17091616553812736\",\n",
      "\"1723228119292329\"]],\n",
      "[[\"7005483050063094\",\n",
      "\"12918544247758495\",\n",
      "\"6704495268449757\",\n",
      "\"27997352538140869\",\n",
      "\"33561933223158001\",\n",
      "\"10302650804409341\",\n",
      "\"902500073877435\"],\n",
      "[\"24792127025408190\",\n",
      "\"23708595350886776\",\n",
      "\"4289161067626032\",\n",
      "\"20885726613957098\",\n",
      "\"5139241961853740\",\n",
      "\"22361799547501060\",\n",
      "\"420383802661836\"]],\n",
      "[[\"28743269128722449\",\n",
      "\"4979231298530088\",\n",
      "\"31503376709063977\",\n",
      "\"150276609311328\",\n",
      "\"19776626655471098\",\n",
      "\"28304266749602851\",\n",
      "\"30280033356673\"],\n",
      "[\"13653810242264662\",\n",
      "\"5588058091839175\",\n",
      "\"6061424357800072\",\n",
      "\"35261961140049435\",\n",
      "\"13312004830800861\",\n",
      "\"35846065164002773\",\n",
      "\"1184978265406463\"]],\n",
      "[[\"6970098556623445\",\n",
      "\"33660747161449129\",\n",
      "\"13660504468133292\",\n",
      "\"23298534855553522\",\n",
      "\"15691788901590288\",\n",
      "\"21715403726769519\",\n",
      "\"238430303575170\"],\n",
      "[\"21546675896797216\",\n",
      "\"14292088569338975\",\n",
      "\"35431636680177860\",\n",
      "\"2590185575322166\",\n",
      "\"25486672275786647\",\n",
      "\"5509885549441560\",\n",
      "\"1114662992461009\"]],\n",
      "[[\"27790316222458673\",\n",
      "\"31529333455684598\",\n",
      "\"30268128246047626\",\n",
      "\"6249589805238263\",\n",
      "\"15734206146336017\",\n",
      "\"34559357530408992\",\n",
      "\"311913883961118\"],\n",
      "[\"9513593442533184\",\n",
      "\"17029572556808548\",\n",
      "\"23496298661746698\",\n",
      "\"29256377109369770\",\n",
      "\"28483163224428818\",\n",
      "\"31412683667449444\",\n",
      "\"1208194573743444\"]]]\n"
     ]
    }
   ],
   "source": [
    "import random\n",
    "randTwelve = []\n",
    "for i in range(12):\n",
    "    randTwelve.append( random.randrange(0, q))\n",
    "printFQ12(FQ12(randTwelve), n, k)"
   ]
  },
  {
   "cell_type": "code",
   "execution_count": null,
   "id": "a6ebafd8",
   "metadata": {},
   "outputs": [],
   "source": [
    "for i in range(6*4):\n",
    "    array = numberToArray(random.randrange(0, q), n, k)\n",
    "    for a in array:\n",
    "        print(f\"\\\"{a}\\\",\")"
   ]
  },
  {
   "cell_type": "code",
   "execution_count": null,
   "id": "dd76672e",
   "metadata": {},
   "outputs": [],
   "source": [
    "curve.G12"
   ]
  },
  {
   "cell_type": "code",
   "execution_count": 92,
   "id": "8122ee65",
   "metadata": {},
   "outputs": [],
   "source": [
    "#Fp12convert(final_exp(FQ12(randTwelve)), 55, 7)"
   ]
  },
  {
   "cell_type": "code",
   "execution_count": null,
   "id": "83c66089",
   "metadata": {},
   "outputs": [],
   "source": []
  },
  {
   "cell_type": "code",
   "execution_count": null,
   "id": "25752de6",
   "metadata": {},
   "outputs": [],
   "source": []
  },
  {
   "cell_type": "code",
   "execution_count": null,
   "id": "2d6c450c",
   "metadata": {},
   "outputs": [],
   "source": []
  },
  {
   "cell_type": "code",
   "execution_count": null,
   "id": "12ac8faa",
   "metadata": {},
   "outputs": [],
   "source": []
  },
  {
   "cell_type": "code",
   "execution_count": null,
   "id": "01dfaf92",
   "metadata": {},
   "outputs": [],
   "source": []
  }
 ],
 "metadata": {
  "kernelspec": {
   "display_name": "Python 3 (ipykernel)",
   "language": "python",
   "name": "python3"
  },
  "language_info": {
   "codemirror_mode": {
    "name": "ipython",
    "version": 3
   },
   "file_extension": ".py",
   "mimetype": "text/x-python",
   "name": "python",
   "nbconvert_exporter": "python",
   "pygments_lexer": "ipython3",
   "version": "3.10.2"
  }
 },
 "nbformat": 4,
 "nbformat_minor": 5
}
