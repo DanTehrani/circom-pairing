{
 "cells": [
  {
   "cell_type": "code",
   "execution_count": 1,
   "id": "da444aaf",
   "metadata": {},
   "outputs": [
    {
     "name": "stdout",
     "output_type": "stream",
     "text": [
      "TRUE\n",
      "[4, 0, 0, 0, 0, 0, 0, 0, 0, 0, 0, 0]\n",
      "4002409555221667393417789825735904156556882819939007885332058136124031650490837864442687629129015664037894272559787\n"
     ]
    }
   ],
   "source": [
    "import curve"
   ]
  },
  {
   "cell_type": "code",
   "execution_count": 2,
   "id": "968dc802",
   "metadata": {},
   "outputs": [],
   "source": [
    "from curve_field_elements import field_modulus, FQ, FQ2, FQ12"
   ]
  },
  {
   "cell_type": "code",
   "execution_count": 3,
   "id": "a6fe5a56",
   "metadata": {},
   "outputs": [],
   "source": [
    "def numberToBase(num, b):\n",
    "    num = abs(num)\n",
    "    # assume num >= 0\n",
    "    if num==0:\n",
    "        return [0]\n",
    "    registers = []\n",
    "    while num:\n",
    "        registers.append(int(num % b))\n",
    "        num //= b\n",
    "    return registers"
   ]
  },
  {
   "cell_type": "code",
   "execution_count": 4,
   "id": "c63f3028",
   "metadata": {},
   "outputs": [
    {
     "data": {
      "text/plain": [
       "True"
      ]
     },
     "execution_count": 4,
     "metadata": {},
     "output_type": "execute_result"
    }
   ],
   "source": [
    "q = curve.field_modulus\n",
    "q == 0x1a0111ea397fe69a4b1ba7b6434bacd764774b84f38512bf6730d2a0f6b0f6241eabfffeb153ffffb9feffffffffaaab"
   ]
  },
  {
   "cell_type": "code",
   "execution_count": 5,
   "id": "e92387f7",
   "metadata": {},
   "outputs": [
    {
     "name": "stdout",
     "output_type": "stream",
     "text": [
      "[54880396502181392957329877675, 31935979117156477062286671870, 20826981314825584179608359615, 8047903782086192180586325942]\n"
     ]
    },
    {
     "data": {
      "text/plain": [
       "True"
      ]
     },
     "execution_count": 5,
     "metadata": {},
     "output_type": "execute_result"
    }
   ],
   "source": [
    "n=96\n",
    "qi = numberToBase(q, 2**n)\n",
    "print(qi)\n",
    "qi[0] + qi[1]*(2**n) + qi[2]*(2**(2*n)) + qi[3]*(2**(3*n)) == q"
   ]
  },
  {
   "cell_type": "code",
   "execution_count": 6,
   "id": "ca1d0feb",
   "metadata": {},
   "outputs": [],
   "source": [
    "def printEllipticPoint(P, n):\n",
    "    print(numberToBase(num=P[0].n, b=2**n), numberToBase(num=P[1].n, b=2**n))"
   ]
  },
  {
   "cell_type": "code",
   "execution_count": 7,
   "id": "eb7bd772",
   "metadata": {},
   "outputs": [
    {
     "name": "stdout",
     "output_type": "stream",
     "text": [
      "[77209383603911340680728987323, 49921657856232494206459177023, 24654436777218005952848247045, 7410505851925769877053596556] [50301641395870356052675782625, 264871839152097495342696260, 35935975898704859035952220918, 2693432453738686426327691501]\n"
     ]
    }
   ],
   "source": [
    "printEllipticPoint(P=curve.G1, n=n)"
   ]
  },
  {
   "cell_type": "code",
   "execution_count": 8,
   "id": "26a7c330",
   "metadata": {},
   "outputs": [
    {
     "name": "stdout",
     "output_type": "stream",
     "text": [
      "[44290793132425271426582253390, 20909793681089979415314527675, 24963435324760951094140993829, 1686205559875009522849859819] [63471916420175193064454004008, 76514997726038961329546910164, 37019189133980177162845611105, 6937560359408430828478113395]\n"
     ]
    }
   ],
   "source": [
    "printEllipticPoint(P=curve.double(curve.G1), n=n)"
   ]
  },
  {
   "cell_type": "code",
   "execution_count": 9,
   "id": "0a44f2c6",
   "metadata": {},
   "outputs": [
    {
     "data": {
      "text/plain": [
       "True"
      ]
     },
     "execution_count": 9,
     "metadata": {},
     "output_type": "execute_result"
    }
   ],
   "source": [
    "curve.is_on_curve(curve.G2, curve.b2)"
   ]
  },
  {
   "cell_type": "code",
   "execution_count": 10,
   "id": "882a44fe",
   "metadata": {},
   "outputs": [
    {
     "name": "stdout",
     "output_type": "stream",
     "text": [
      "[4, 0, 0, 0, 0, 0, 0, 0, 0, 0, 0, 0]\n",
      "4002409555221667393417789825735904156556882819939007885332058136124031650490837864442687629129015664037894272559787\n"
     ]
    },
    {
     "data": {
      "text/plain": [
       "True"
      ]
     },
     "execution_count": 10,
     "metadata": {},
     "output_type": "execute_result"
    }
   ],
   "source": [
    "curve.is_on_curve(curve.G12, curve.b12)"
   ]
  },
  {
   "cell_type": "code",
   "execution_count": 11,
   "id": "65bcaed3",
   "metadata": {},
   "outputs": [],
   "source": [
    "import miller_pseudocode as miller"
   ]
  },
  {
   "cell_type": "code",
   "execution_count": 12,
   "id": "2f3e81db",
   "metadata": {},
   "outputs": [
    {
     "name": "stdout",
     "output_type": "stream",
     "text": [
      "[4, 0, 0, 0, 0, 0, 0, 0, 0, 0, 0, 0]\n",
      "4002409555221667393417789825735904156556882819939007885332058136124031650490837864442687629129015664037894272559787\n"
     ]
    }
   ],
   "source": [
    "import random\n",
    "r = 0x73eda753299d7d483339d80809a1d80553bda402fffe5bfeffffffff00000001\n",
    "S = curve.multiply(curve.G2, random.randrange(1, curve.curve_order))\n",
    "S12 = curve.twist(S)\n",
    "assert curve.is_on_curve(S12, curve.b12)\n",
    "assert curve.is_on_curve(S, curve.b2)"
   ]
  },
  {
   "cell_type": "code",
   "execution_count": 13,
   "id": "a68487b2",
   "metadata": {},
   "outputs": [],
   "source": [
    "P = curve.multiply(curve.G2, curve.curve_order / r)"
   ]
  },
  {
   "cell_type": "code",
   "execution_count": 14,
   "id": "8369e0ab",
   "metadata": {},
   "outputs": [],
   "source": [
    "tate1 = miller.e(P=curve.twist(P), Q=curve.G12, r=r, S=S12)"
   ]
  },
  {
   "cell_type": "code",
   "execution_count": 15,
   "id": "d34e6dfb",
   "metadata": {},
   "outputs": [
    {
     "data": {
      "text/plain": [
       "[3785067729533689918362094271660022836310555831946549591482300443714889434226842983870660305078973113652758559526519, 0, 0, 0, 0, 0, 467838752224372845515839888766721474773176484336187876804096242078820764544344202336444654675416301018162750277385, 0, 0, 0, 0, 0]"
      ]
     },
     "execution_count": 15,
     "metadata": {},
     "output_type": "execute_result"
    }
   ],
   "source": [
    "miller.exp(tate1, (q**12-1)//r)"
   ]
  },
  {
   "cell_type": "code",
   "execution_count": 18,
   "id": "5424aba9",
   "metadata": {},
   "outputs": [],
   "source": [
    "tate2 = miller.e(P=P, Q=curve.G2, r=r, S=S)"
   ]
  },
  {
   "cell_type": "code",
   "execution_count": 20,
   "id": "7c0de096",
   "metadata": {},
   "outputs": [
    {
     "data": {
      "text/plain": [
       "[250496926536395370460144334690840154526849496343729582954338549669678548280349321764417330625373750633027037244117, 467838752224372845515839888766721474773176484336187876804096242078820764544344202336444654675416301018162750277385]"
      ]
     },
     "execution_count": 20,
     "metadata": {},
     "output_type": "execute_result"
    }
   ],
   "source": [
    "miller.exp(tate2, (q**12-1)//r)"
   ]
  },
  {
   "cell_type": "code",
   "execution_count": 21,
   "id": "e0b54ea8",
   "metadata": {},
   "outputs": [
    {
     "data": {
      "text/plain": [
       "[1550961405790747105683976738180513364749303189544268894223495079632604803765891128052776471891713664412694235764800, 0, 0, 0, 0, 0, 1222403687603905255690336453479110398955871317516073435693097850186029891010736343136401101229732393471677369669878, 0, 0, 0, 0, 0]"
      ]
     },
     "execution_count": 21,
     "metadata": {},
     "output_type": "execute_result"
    }
   ],
   "source": [
    "tate1"
   ]
  },
  {
   "cell_type": "code",
   "execution_count": 22,
   "id": "de95c0a8",
   "metadata": {},
   "outputs": [
    {
     "data": {
      "text/plain": [
       "[2773365093394652361374313191659623763705174507060342329916592929818634694776627471189177573121446057884371605434678, 1222403687603905255690336453479110398955871317516073435693097850186029891010736343136401101229732393471677369669878]"
      ]
     },
     "execution_count": 22,
     "metadata": {},
     "output_type": "execute_result"
    }
   ],
   "source": [
    "tate2"
   ]
  },
  {
   "cell_type": "code",
   "execution_count": null,
   "id": "bc085623",
   "metadata": {},
   "outputs": [],
   "source": []
  }
 ],
 "metadata": {
  "kernelspec": {
   "display_name": "Python 3 (ipykernel)",
   "language": "python",
   "name": "python3"
  },
  "language_info": {
   "codemirror_mode": {
    "name": "ipython",
    "version": 3
   },
   "file_extension": ".py",
   "mimetype": "text/x-python",
   "name": "python",
   "nbconvert_exporter": "python",
   "pygments_lexer": "ipython3",
   "version": "3.10.2"
  }
 },
 "nbformat": 4,
 "nbformat_minor": 5
}
